{
 "cells": [
  {
   "cell_type": "code",
   "execution_count": 1,
   "id": "e2516ec4",
   "metadata": {},
   "outputs": [
    {
     "name": "stderr",
     "output_type": "stream",
     "text": [
      "c:\\Users\\Adam\\miniconda3\\envs\\main_env\\Lib\\site-packages\\tqdm\\auto.py:21: TqdmWarning: IProgress not found. Please update jupyter and ipywidgets. See https://ipywidgets.readthedocs.io/en/stable/user_install.html\n",
      "  from .autonotebook import tqdm as notebook_tqdm\n"
     ]
    }
   ],
   "source": [
    "import torch\n",
    "import json\n",
    "from transformers import SiglipProcessor, SiglipModel\n",
    "from sklearn.metrics.pairwise import cosine_similarity\n",
    "import os\n",
    "import numpy as np"
   ]
  },
  {
   "cell_type": "code",
   "execution_count": 3,
   "id": "7569d5f5",
   "metadata": {},
   "outputs": [
    {
     "name": "stderr",
     "output_type": "stream",
     "text": [
      "C:\\Users\\Adam\\AppData\\Local\\Temp\\ipykernel_6472\\1860290231.py:8: FutureWarning: You are using `torch.load` with `weights_only=False` (the current default value), which uses the default pickle module implicitly. It is possible to construct malicious pickle data which will execute arbitrary code during unpickling (See https://github.com/pytorch/pytorch/blob/main/SECURITY.md#untrusted-models for more details). In a future release, the default value for `weights_only` will be flipped to `True`. This limits the functions that could be executed during unpickling. Arbitrary objects will no longer be allowed to be loaded via this mode unless they are explicitly allowlisted by the user via `torch.serialization.add_safe_globals`. We recommend you start setting `weights_only=True` for any use case where you don't have full control of the loaded file. Please open an issue on GitHub for any issues related to this experimental feature.\n",
      "  embeddings = torch.load(\"C:/Users/Adam/Desktop/applied_ml/dataset/image_embeddings_siglip.pt\")\n",
      "C:\\Users\\Adam\\AppData\\Local\\Temp\\ipykernel_6472\\1860290231.py:9: FutureWarning: You are using `torch.load` with `weights_only=False` (the current default value), which uses the default pickle module implicitly. It is possible to construct malicious pickle data which will execute arbitrary code during unpickling (See https://github.com/pytorch/pytorch/blob/main/SECURITY.md#untrusted-models for more details). In a future release, the default value for `weights_only` will be flipped to `True`. This limits the functions that could be executed during unpickling. Arbitrary objects will no longer be allowed to be loaded via this mode unless they are explicitly allowlisted by the user via `torch.serialization.add_safe_globals`. We recommend you start setting `weights_only=True` for any use case where you don't have full control of the loaded file. Please open an issue on GitHub for any issues related to this experimental feature.\n",
      "  infos = torch.load(\"C:/Users/Adam/Desktop/applied_ml/dataset/image_info_siglip.pt\")\n"
     ]
    }
   ],
   "source": [
    "device = \"cuda\" if torch.cuda.is_available() else \"cpu\"\n",
    "\n",
    "# Modell és processor betöltése\n",
    "model = SiglipModel.from_pretrained(\"google/siglip-base-patch16-224\").to(device)\n",
    "processor = SiglipProcessor.from_pretrained(\"google/siglip-base-patch16-224\")\n",
    "\n",
    "# Előre kiszámolt embeddingek és kép információk betöltése\n",
    "embeddings = torch.load(\"C:/Users/Adam/Desktop/applied_ml/dataset/image_embeddings_siglip.pt\")\n",
    "infos = torch.load(\"C:/Users/Adam/Desktop/applied_ml/dataset/image_info_siglip.pt\")\n",
    "\n",
    "# Képcsoportokról szóló szövegek betöltése\n",
    "#with open(\"C:/Users/Adam/Desktop/applied_ml/custom_captions.json\", encoding=\"utf-8\") as f:\n",
    " #   class_texts = json.load(f)"
   ]
  },
  {
   "cell_type": "code",
   "execution_count": 4,
   "id": "213ad748",
   "metadata": {},
   "outputs": [],
   "source": [
    "# Szótár a képosztályokhoz tartozó képek és azok embeddingjeihez\n",
    "class_to_embeddings = {}\n",
    "\n",
    "for idx, info in enumerate(infos):\n",
    "    label = str(info['label'])\n",
    "    if label not in class_to_embeddings:\n",
    "        class_to_embeddings[label] = []\n",
    "    class_to_embeddings[label].append(embeddings[idx])"
   ]
  },
  {
   "cell_type": "code",
   "execution_count": null,
   "id": "68284b24",
   "metadata": {},
   "outputs": [
    {
     "name": "stdout",
     "output_type": "stream",
     "text": [
      "✅ A cosine similarity-k átlagát sikeresen elmentettük a következő fájlba: C:/Users/Adam/Desktop/applied_ml/intra_class_similarities.json\n"
     ]
    },
    {
     "name": "stderr",
     "output_type": "stream",
     "text": [
      "C:\\Users\\Adam\\AppData\\Local\\Temp\\ipykernel_11004\\1833923895.py:15: FutureWarning: You are using `torch.load` with `weights_only=False` (the current default value), which uses the default pickle module implicitly. It is possible to construct malicious pickle data which will execute arbitrary code during unpickling (See https://github.com/pytorch/pytorch/blob/main/SECURITY.md#untrusted-models for more details). In a future release, the default value for `weights_only` will be flipped to `True`. This limits the functions that could be executed during unpickling. Arbitrary objects will no longer be allowed to be loaded via this mode unless they are explicitly allowlisted by the user via `torch.serialization.add_safe_globals`. We recommend you start setting `weights_only=True` for any use case where you don't have full control of the loaded file. Please open an issue on GitHub for any issues related to this experimental feature.\n",
      "  embeddings = torch.load(\"C:/Users/Adam/Desktop/applied_ml/dataset/image_embeddings_siglip.pt\")\n",
      "C:\\Users\\Adam\\AppData\\Local\\Temp\\ipykernel_11004\\1833923895.py:16: FutureWarning: You are using `torch.load` with `weights_only=False` (the current default value), which uses the default pickle module implicitly. It is possible to construct malicious pickle data which will execute arbitrary code during unpickling (See https://github.com/pytorch/pytorch/blob/main/SECURITY.md#untrusted-models for more details). In a future release, the default value for `weights_only` will be flipped to `True`. This limits the functions that could be executed during unpickling. Arbitrary objects will no longer be allowed to be loaded via this mode unless they are explicitly allowlisted by the user via `torch.serialization.add_safe_globals`. We recommend you start setting `weights_only=True` for any use case where you don't have full control of the loaded file. Please open an issue on GitHub for any issues related to this experimental feature.\n",
      "  infos = torch.load(\"C:/Users/Adam/Desktop/applied_ml/dataset/image_info_siglip.pt\")\n"
     ]
    }
   ],
   "source": [
    "# Kiszámoljuk az osztályok közötti átlagos cosine similarity-t\n",
    "similarities_per_class = {}\n",
    "\n",
    "for class_id, class_embeddings in class_to_embeddings.items():\n",
    "    embeddings_tensor = torch.stack(class_embeddings)\n",
    "    \n",
    "    # Kiszámítjuk a cosine similarity mátrixot az osztályon belül\n",
    "    similarity_matrix = cosine_similarity(embeddings_tensor.cpu().numpy())\n",
    "    \n",
    "    # Az összes párra átlagos cosine similarity-t számolunk\n",
    "    upper_triangle_indices = np.triu_indices(similarity_matrix.shape[0], k=1)\n",
    "    \n",
    "    avg_similarity = similarity_matrix[upper_triangle_indices].mean()\n",
    "    similarities_per_class[class_id] = avg_similarity.item()  # Konvertáljuk float32 -> float64\n",
    "\n",
    "# Eredmény mentése fájlba\n",
    "output_file = \"C:/Users/Adam/Desktop/applied_ml/intra_class_similarities.json\"\n",
    "with open(output_file, \"w\", encoding=\"utf-8\") as f:\n",
    "    json.dump(similarities_per_class, f, indent=4)\n",
    "\n",
    "print(f\"✅ A cosine similarity-k átlagát sikeresen elmentettük a következő fájlba: {output_file}\")"
   ]
  },
  {
   "cell_type": "code",
   "execution_count": null,
   "id": "919ad4ff",
   "metadata": {},
   "outputs": [
    {
     "name": "stderr",
     "output_type": "stream",
     "text": [
      "C:\\Users\\Adam\\AppData\\Local\\Temp\\ipykernel_11004\\1974031112.py:13: FutureWarning: You are using `torch.load` with `weights_only=False` (the current default value), which uses the default pickle module implicitly. It is possible to construct malicious pickle data which will execute arbitrary code during unpickling (See https://github.com/pytorch/pytorch/blob/main/SECURITY.md#untrusted-models for more details). In a future release, the default value for `weights_only` will be flipped to `True`. This limits the functions that could be executed during unpickling. Arbitrary objects will no longer be allowed to be loaded via this mode unless they are explicitly allowlisted by the user via `torch.serialization.add_safe_globals`. We recommend you start setting `weights_only=True` for any use case where you don't have full control of the loaded file. Please open an issue on GitHub for any issues related to this experimental feature.\n",
      "  embeddings = torch.load(\"C:/Users/Adam/Desktop/applied_ml/dataset/image_embeddings_siglip.pt\")\n",
      "C:\\Users\\Adam\\AppData\\Local\\Temp\\ipykernel_11004\\1974031112.py:14: FutureWarning: You are using `torch.load` with `weights_only=False` (the current default value), which uses the default pickle module implicitly. It is possible to construct malicious pickle data which will execute arbitrary code during unpickling (See https://github.com/pytorch/pytorch/blob/main/SECURITY.md#untrusted-models for more details). In a future release, the default value for `weights_only` will be flipped to `True`. This limits the functions that could be executed during unpickling. Arbitrary objects will no longer be allowed to be loaded via this mode unless they are explicitly allowlisted by the user via `torch.serialization.add_safe_globals`. We recommend you start setting `weights_only=True` for any use case where you don't have full control of the loaded file. Please open an issue on GitHub for any issues related to this experimental feature.\n",
      "  infos = torch.load(\"C:/Users/Adam/Desktop/applied_ml/dataset/image_info_siglip.pt\")\n"
     ]
    },
    {
     "name": "stdout",
     "output_type": "stream",
     "text": [
      "✅ A képosztályok közötti cosine similarity-k sikeresen elmentve a következő fájlba: C:/Users/Adam/Desktop/applied_ml/inter_class_similarities.json\n"
     ]
    }
   ],
   "source": [
    "# Képosztályok közötti inter cosine similarity kiszámítása\n",
    "inter_class_similarities = {}\n",
    "\n",
    "class_ids = list(class_to_embeddings.keys())\n",
    "\n",
    "for class_id_1 in class_ids:\n",
    "    embeddings_class_1 = torch.stack(class_to_embeddings[class_id_1]).cpu().numpy()\n",
    "    inter_class_similarities[class_id_1] = {}  # Az osztályhoz egy új szótárat hozunk létre\n",
    "    \n",
    "    for class_id_2 in class_ids:\n",
    "        embeddings_class_2 = torch.stack(class_to_embeddings[class_id_2]).cpu().numpy()\n",
    "        \n",
    "        # Cosine similarity a két osztály között\n",
    "        similarity_matrix = cosine_similarity(embeddings_class_1, embeddings_class_2)\n",
    "        \n",
    "        # Az átlagos cosine similarity a két osztály között\n",
    "        avg_similarity = similarity_matrix.mean()\n",
    "        \n",
    "        # Az eredmény elmentése (float32 -> float64)\n",
    "        inter_class_similarities[class_id_1][class_id_2] = float(avg_similarity)\n",
    "\n",
    "# Eredmény mentése fájlba\n",
    "output_file = \"C:/Users/Adam/Desktop/applied_ml/inter_class_similarities.json\"\n",
    "with open(output_file, \"w\", encoding=\"utf-8\") as f:\n",
    "    json.dump(inter_class_similarities, f, indent=4)\n",
    "\n",
    "print(f\"✅ A képosztályok közötti cosine similarity-k sikeresen elmentve a következő fájlba: {output_file}\")"
   ]
  }
 ],
 "metadata": {
  "kernelspec": {
   "display_name": "main_env",
   "language": "python",
   "name": "python3"
  },
  "language_info": {
   "codemirror_mode": {
    "name": "ipython",
    "version": 3
   },
   "file_extension": ".py",
   "mimetype": "text/x-python",
   "name": "python",
   "nbconvert_exporter": "python",
   "pygments_lexer": "ipython3",
   "version": "3.12.9"
  }
 },
 "nbformat": 4,
 "nbformat_minor": 5
}
